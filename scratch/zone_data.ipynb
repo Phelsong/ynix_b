{
 "cells": [
  {
   "cell_type": "code",
   "execution_count": 42,
   "metadata": {
    "tags": [
     "parameters"
    ]
   },
   "outputs": [],
   "source": [
    "import pandas as pd\n",
    "\n",
    "# ----------------------------------------------------------------------------\n",
    "\n",
    "\n",
    "class Zone:\n",
    "    \"\"\"Zone template for DB entry. Stuctured to Throw soft errors for invalid data intentional\"\"\"\n",
    "\n",
    "    def __init__(\n",
    "        self,\n",
    "        name,\n",
    "        *,\n",
    "        id: int = 9999,  #! type:ignore\n",
    "        recommended_ap: int = 9999,\n",
    "        region: str = \"todo\",\n",
    "        dr: int = 0,\n",
    "        dr_breakpoint: int = 0,\n",
    "        mob_type: str = \"monster\",\n",
    "        ap_cap: int = 1000,\n",
    "        dr_cap_mod: float = 0.7,\n",
    "        evasion: int = 0,\n",
    "    ):\n",
    "        self.name: str = name\n",
    "        self.id: int = id\n",
    "        self.mob_type: str = mob_type\n",
    "        self.recommended_ap: int = recommended_ap\n",
    "        self.region: str = region\n",
    "        self.dr_breakpoint: int = dr_breakpoint\n",
    "        self.ap_cap: int = ap_cap\n",
    "        self.dr: int = dr\n",
    "        self.dr_cap_mod: float = dr_cap_mod\n",
    "        self.evasion: int = evasion\n",
    "        zone_list.setdefault(self.name, self)\n",
    "\n",
    "\n",
    "# =======================================================\n",
    "zone_list: dict[str, Zone] = {}"
   ]
  },
  {
   "cell_type": "code",
   "execution_count": null,
   "metadata": {},
   "outputs": [],
   "source": [
    "solo = pd.read_csv(\"X:/0.code/ynix_b/data/PvE/solo_spots.csv\")\n",
    "party = pd.read_csv(\"X:/0.code/ynix_b/data/PvE/party_spots.csv\")\n",
    "spots = pd.merge(solo, party, how=\"outer\")\n",
    "spots.sort_values(\"Recommended\", inplace=True, ignore_index=True)"
   ]
  },
  {
   "cell_type": "code",
   "execution_count": 45,
   "metadata": {},
   "outputs": [
    {
     "name": "stdout",
     "output_type": "stream",
     "text": [
      "245\n"
     ]
    }
   ],
   "source": [
    "for idx, row in solo.iterrows():\n",
    "    Zone(\n",
    "        name=row[\"Grindspot\"],\n",
    "        id=idx + 1,\n",
    "        mob_type=row[\"Mob_Type\"],\n",
    "        recommended_ap=row[\"Recommended\"],\n",
    "        dr_breakpoint=row[\"DR_Breakpoint\"],\n",
    "        dr=row[\"Actual_Mob_DR\"],\n",
    "        ap_cap=row[\"AP_Cap\"],\n",
    "        dr_cap_mod=row[\"Modifier\"],\n",
    "    )"
   ]
  },
  {
   "cell_type": "code",
   "execution_count": 54,
   "metadata": {},
   "outputs": [
    {
     "name": "stdout",
     "output_type": "stream",
     "text": [
      "Grindspot        Hystria Ruins\n",
      "Mob_Type                 Other\n",
      "Recommended                250\n",
      "DR_Breakpoint              385\n",
      "Actual_Mob_DR              365\n",
      "AP_Cap                     460\n",
      "Modifier                   0.7\n",
      "Name: 25, dtype: object\n",
      "<__main__.Zone object at 0x00000231CC553990>\n"
     ]
    }
   ],
   "source": [
    "print(spots.loc[25])\n",
    "print(zone_list[\"Tshira\"])"
   ]
  }
 ],
 "metadata": {
  "kernelspec": {
   "display_name": ".venv",
   "language": "python",
   "name": "python3"
  },
  "language_info": {
   "codemirror_mode": {
    "name": "ipython",
    "version": 3
   },
   "file_extension": ".py",
   "mimetype": "text/x-python",
   "name": "python",
   "nbconvert_exporter": "python",
   "pygments_lexer": "ipython3",
   "version": "3.11.4"
  },
  "orig_nbformat": 4
 },
 "nbformat": 4,
 "nbformat_minor": 2
}
